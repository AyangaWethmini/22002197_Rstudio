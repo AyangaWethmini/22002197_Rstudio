{
 "cells": [
  {
   "cell_type": "code",
   "execution_count": null,
   "id": "2dd5f073-418e-4ac9-8f2a-dbba43ab55f3",
   "metadata": {},
   "outputs": [],
   "source": []
  }
 ],
 "metadata": {
  "kernelspec": {
   "display_name": "",
   "name": ""
  },
  "language_info": {
   "name": ""
  }
 },
 "nbformat": 4,
 "nbformat_minor": 5
}
